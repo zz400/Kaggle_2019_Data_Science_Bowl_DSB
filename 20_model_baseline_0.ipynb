{
 "cells": [
  {
   "cell_type": "markdown",
   "metadata": {},
   "source": [
    "### Feature type: 'assessment_overall'; Regression on: 'group'\n",
    "            REUSE == F   REUSE == T\n",
    "'train'       0.453        0.501        \n",
    "'test'        0.419        0.428    \n",
    "'combined'    0.452        0.496    \n",
    "\n",
    "\n",
    "### Feature type: 'assessment' + 'assessment_overall'; Regression on: 'group'\n",
    "            REUSE == F   REUSE == T\n",
    "'train'       0.491        0.525        \n",
    "'test'        0.378        0.444    \n",
    "'combined'    0.483        0.519    \n"
   ]
  },
  {
   "cell_type": "code",
   "execution_count": 1,
   "metadata": {},
   "outputs": [],
   "source": [
    "import os\n",
    "from sys import getsizeof\n",
    "import time\n",
    "import re\n",
    "from importlib import reload\n",
    "import joblib \n",
    "import gc\n",
    "import random\n",
    "import math\n",
    "\n",
    "import numpy as np\n",
    "import pandas as pd\n",
    "import matplotlib.pyplot as plt\n",
    "import seaborn as sns\n",
    "\n",
    "from sklearn.utils import shuffle\n",
    "from sklearn.model_selection import train_test_split, GridSearchCV, PredefinedSplit, KFold\n",
    "from sklearn.preprocessing import StandardScaler, MinMaxScaler\n",
    "from sklearn.preprocessing import OneHotEncoder, OrdinalEncoder\n",
    "from sklearn.pipeline import Pipeline \n",
    "from sklearn.compose import ColumnTransformer \n",
    "from sklearn.ensemble import AdaBoostRegressor\n",
    "from sklearn.metrics import confusion_matrix, cohen_kappa_score\n",
    "from sklearn.metrics import make_scorer \n",
    "from sklearn.metrics import mean_squared_error, mean_absolute_error, r2_score\n",
    "\n",
    "from xgboost import plot_importance\n",
    "from xgboost.sklearn import XGBRegressor \n",
    "\n",
    "pd.options.mode.chained_assignment = None  # default='warn'. Disable SettingWithCopyWarning.\n",
    "Kaggle = False  # whether this notebook is ran on Kaggle kernel. If true, skip loading raw to same run time and memory.\n",
    "\n",
    "if Kaggle:\n",
    "    # change directory to the dataset where custom scripts are found\n",
    "    os.chdir(\"/kaggle/input/2019dsb-temp/\") \n",
    "    # read in custom modules \n",
    "    from data_util import *\n",
    "    from model_util import *\n",
    "    # reset our working directory\n",
    "    os.chdir(\"/kaggle/working/\")\n",
    "else:\n",
    "    from data_util import *\n",
    "    from model_util import *\n",
    "    # for auto reload a module after editing.\n",
    "    %load_ext autoreload\n",
    "    %autoreload 2"
   ]
  },
  {
   "cell_type": "markdown",
   "metadata": {},
   "source": [
    "# Load Data"
   ]
  },
  {
   "cell_type": "code",
   "execution_count": 2,
   "metadata": {},
   "outputs": [
    {
     "name": "stdout",
     "output_type": "stream",
     "text": [
      "\n",
      "/########## Load Data ##########/\n",
      "\n",
      "train_df shape: (11341042, 11) , load time: 67.5 seconds.\n",
      "test_df shape: (1156414, 11) , load time: 4.8 seconds.\n"
     ]
    }
   ],
   "source": [
    "# Input data path\n",
    "ROOT = '..' if Kaggle else '.'\n",
    "DATA_DIR  = os.path.join(ROOT, 'input')\n",
    "if Kaggle:\n",
    "    DATA_DIR  = os.path.join(ROOT, 'input', 'data-science-bowl-2019')\n",
    "    MY_DATA_DIR = os.path.join(ROOT, 'input', '2019dsb-temp')\n",
    "    TRAIN_XY_PATH = os.path.join(MY_DATA_DIR, 'train_Xy.csv')\n",
    "TRAIN_PATH = os.path.join(DATA_DIR, 'train.csv')\n",
    "TEST_PATH = os.path.join(DATA_DIR, 'test.csv')\n",
    "TRAIN_LABEL_PATH = os.path.join(DATA_DIR, 'train_labels.csv')\n",
    "SUB_SAMPLE_PATH = os.path.join(DATA_DIR, 'sample_submission.csv')\n",
    "\n",
    "# Read input data\n",
    "print(\"\\n/########## Load Data ##########/\\n\")\n",
    "t0 = time.time()\n",
    "if Kaggle:\n",
    "    train_Xy_df = pd.read_csv(TRAIN_XY_PATH)\n",
    "else:\n",
    "    train_df = pd.read_csv(TRAIN_PATH)\n",
    "    print('train_df shape:', train_df.shape, ', load time: {0:.1f} seconds.'.format((time.time() - t0)))\n",
    "    \n",
    "t1 = time.time()\n",
    "test_df  = pd.read_csv(TEST_PATH)\n",
    "train_label_df0 = pd.read_csv(TRAIN_LABEL_PATH)\n",
    "print('test_df shape:', test_df.shape, ', load time: {0:.1f} seconds.'.format((time.time() - t1)))"
   ]
  },
  {
   "cell_type": "markdown",
   "metadata": {},
   "source": [
    "# Process Data\n",
    "\n",
    "- **train_df, test_df**: raw data\n",
    "- **train_label_df, test_label_df**: dataframes recording information of assessment sessions (labels).\n",
    "- **train_proc_df, test_proc_df**: dataframes recording information of all game sessions (features and labels).\n",
    "- **train_Xy_df, test_Xy_df**: build from train_proc_df and test_proc_df, that can directly fit in the model."
   ]
  },
  {
   "cell_type": "code",
   "execution_count": 21,
   "metadata": {},
   "outputs": [
    {
     "name": "stdout",
     "output_type": "stream",
     "text": [
      "\n",
      "/########## Extract proc_df ##########/\n",
      "\n",
      "Finished extracting features. Time: 48.1 seconds.\n",
      "train_proc_df shape: (17690, 19)\n",
      "Finished extracting features. Time: 8.6 seconds.\n",
      "test_proc_df shape:  (3018, 19)\n",
      "\n",
      "/########## Build Xy_df ##########/\n",
      "\n"
     ]
    },
    {
     "name": "stderr",
     "output_type": "stream",
     "text": [
      "/Users/zhao/Dropbox/Jupyter_notebooks/Kaggle_2019_Data_Science_Bowl/data_util.py:606: RuntimeWarning: invalid value encountered in long_scalars\n",
      "  Xy_df[col7].iloc[i:row_end] = sum_perc_growth / count_perc_growth  # mean perc_growth\n",
      "/Users/zhao/Dropbox/Jupyter_notebooks/Kaggle_2019_Data_Science_Bowl/data_util.py:606: RuntimeWarning: invalid value encountered in double_scalars\n",
      "  Xy_df[col7].iloc[i:row_end] = sum_perc_growth / count_perc_growth  # mean perc_growth\n"
     ]
    },
    {
     "name": "stdout",
     "output_type": "stream",
     "text": [
      "Finish creating Xy_df. Time: 45.1 seconds.\n",
      "Finish creating Xy_df. Time: 6.2 seconds.\n",
      "train_Xy_df shape: (17690, 139)\n",
      "test_Xy_df shape:  (3018, 139)\n",
      "\n",
      "\n",
      "TRAIN_USERS num:  17000\n",
      "TRAIN_USERS_wLabel num:  3614\n",
      "TEST_USERS num:  1000\n",
      "TEST_USERS_wMultiAssess num:  557\n"
     ]
    }
   ],
   "source": [
    "# Setup directory\n",
    "PROC_DIR = os.path.join('.', 'processed')\n",
    "if not os.path.exists(PROC_DIR):\n",
    "    os.makedirs(PROC_DIR)\n",
    "    \n",
    "TRAIN_LABEL_PATH_ = os.path.join(PROC_DIR, 'train_labels_sortByTime.csv')\n",
    "TEST_LABEL_PATH_  = os.path.join(PROC_DIR, 'test_labels_sortByTime.csv')\n",
    "TRAIN_PROC_PATH = os.path.join(PROC_DIR, 'train_proc.csv')\n",
    "TEST_PROC_PATH  = os.path.join(PROC_DIR, 'test_proc.csv')\n",
    "TRAIN_XY_PATH = os.path.join(PROC_DIR, 'train_Xy.csv')\n",
    "TEST_XY_PATH  = os.path.join(PROC_DIR, 'test_Xy.csv')\n",
    "FEATURE_SPECS_PATH = os.path.join(PROC_DIR, 'feature_specs.csv')\n",
    "\n",
    "if not Kaggle:\n",
    "    TRAIN_USERS = train_df['installation_id'].unique() if not Kaggle else train_Xy_df['installation_id'].unique()\n",
    "TRAIN_USERS_wLabel = train_label_df0['installation_id'].unique()\n",
    "TEST_USERS  = test_df['installation_id'].unique()\n",
    "\n",
    "# Get proc_df\n",
    "print(\"\\n/########## Extract proc_df ##########/\\n\")\n",
    "# PROC_DF_COLUMNS = ['game_session', 'installation_id', 'title', 'start_time', 'start_time_parsed', 'type', 'f0', ..., 'f11']\n",
    "if not Kaggle:\n",
    "    get_process_csv(train_df[train_df['type'] == 'Assessment'], TRAIN_USERS_wLabel, TRAIN_PROC_PATH, is_test=False)\n",
    "    train_proc_df = pd.read_csv(TRAIN_PROC_PATH)\n",
    "    print('train_proc_df shape:', train_proc_df.shape)\n",
    "    \n",
    "get_process_csv(test_df[test_df['type'] == 'Assessment'], TEST_USERS, TEST_PROC_PATH, is_test=True)\n",
    "test_proc_df = pd.read_csv(TEST_PROC_PATH)\n",
    "print('test_proc_df shape: ', test_proc_df.shape)\n",
    "test_label_df  = test_proc_df[test_proc_df['type'] == 'Assessment'].iloc[:, :8]\n",
    "TEST_USERS_wMultiAssess = test_label_df.dropna()['installation_id'].unique()    # can be used as part of train.\n",
    "\n",
    "\n",
    "# Get Xy_df\n",
    "print(\"\\n/########## Build Xy_df ##########/\\n\")\n",
    "if not Kaggle:\n",
    "    get_Xy_csv(train_proc_df, TRAIN_XY_PATH, FEATURE_SPECS_PATH)\n",
    "    train_Xy_df = pd.read_csv(TRAIN_XY_PATH)\n",
    "get_Xy_csv(test_proc_df, TEST_XY_PATH, FEATURE_SPECS_PATH)\n",
    "test_Xy_df  = pd.read_csv(TEST_XY_PATH)\n",
    "feature_specs_df = pd.read_csv(FEATURE_SPECS_PATH, keep_default_na=False)\n",
    "print('train_Xy_df shape:', train_Xy_df.shape)\n",
    "print('test_Xy_df shape: ', test_Xy_df.shape)\n",
    "\n",
    "print('\\n')\n",
    "if not Kaggle:\n",
    "    print('TRAIN_USERS num: ', len(TRAIN_USERS))\n",
    "print('TRAIN_USERS_wLabel num: ', len(TRAIN_USERS_wLabel))\n",
    "print('TEST_USERS num: ', len(TEST_USERS))\n",
    "print('TEST_USERS_wMultiAssess num: ', len(TEST_USERS_wMultiAssess))\n",
    "\n",
    "ASSESSMENTS = np.sort(train_Xy_df['assessment_title'].unique())\n",
    "\n",
    "if Kaggle:\n",
    "    del test_df\n",
    "    gc.collect()\n",
    "    time.sleep(3)"
   ]
  },
  {
   "cell_type": "markdown",
   "metadata": {},
   "source": [
    "# Training with Cross-Validation\n",
    "\n",
    "- **dummy_train_Xy_df, dummy_test_Xy_df**: 'dummy_train' and 'dummy_test' prefix means the samples actually used for train and test.\n",
    "- Note the difference in the distribution of train set and test set, as shown by the histogram below. **In the test set, there're more data points that haven't taken any previous assessments.**"
   ]
  },
  {
   "cell_type": "code",
   "execution_count": 64,
   "metadata": {},
   "outputs": [
    {
     "name": "stdout",
     "output_type": "stream",
     "text": [
      "dummy_train unique uid: 3614\n",
      "dummy_train samples: 17690\n"
     ]
    },
    {
     "data": {
      "image/png": "[encoded data removed]",
      "text/plain": [
       "<Figure size 1800x360 with 7 Axes>"
      ]
     },
     "metadata": {
      "needs_background": "light"
     },
     "output_type": "display_data"
    }
   ],
   "source": [
    "REGRESSION_ON = 'accuracy_group'  # either 'accuracy' or 'accuracy_group'\n",
    "FINAL_MODEL = 'oof'  # either 'oof' or 'retrain'. 'oof' means use the oof models from cv; \n",
    "                     # 'retrain' means re-train the model with the whole training set. \n",
    "TRAIN_SET = 'train'  # 'train', 'test', or 'combined'\n",
    "DATA_REUSE = True  \n",
    "# if DATA_REUSE is True, use all the rows in Xy_df \n",
    "#    (one user can contribute to multiple train points if he did multiple assessments ); \n",
    "# else, only take the rows where 'is_last_assessment' == 1\n",
    "#    (one user only contributes to one train point). \n",
    "\n",
    "dummy_train_user = np.concatenate((TRAIN_USERS_wLabel, TEST_USERS_wMultiAssess))\n",
    "test_wlabel_df = test_Xy_df[test_Xy_df['is_last_assessment'] == 0]\n",
    "test_temp_df = test_wlabel_df.groupby('installation_id').tail(1)\n",
    "test_wlabel_df.loc[test_temp_df.index, 'is_last_assessment'] = 1\n",
    "dummy_train_Xy_df = pd.concat([train_Xy_df, test_wlabel_df], ignore_index=True)\n",
    "dummy_train_Xy_df['from_test'] = dummy_train_Xy_df['installation_id'].isin(TEST_USERS_wMultiAssess)\n",
    "dummy_test_Xy_df  = test_Xy_df[test_Xy_df['is_last_assessment'] == 1]\n",
    "\n",
    "if TRAIN_SET == 'train':\n",
    "    dummy_train_Xy_df = dummy_train_Xy_df[dummy_train_Xy_df['from_test'] == False] \n",
    "elif TRAIN_SET == 'test':\n",
    "    dummy_train_Xy_df = dummy_train_Xy_df[dummy_train_Xy_df['from_test'] == True] \n",
    "\n",
    "if not DATA_REUSE:\n",
    "    dummy_train_Xy_df = dummy_train_Xy_df[dummy_train_Xy_df['is_last_assessment'] == 1]\n",
    "\n",
    "dummy_train_Xy_df.reset_index(inplace=True, drop=True)  \n",
    "dummy_test_Xy_df.reset_index(inplace=True, drop=True)\n",
    "dummy_train_Xy_df['history_assessments'] = (dummy_train_Xy_df['Assessment Overall_00'] > 0)\n",
    "dummy_test_Xy_df['history_assessments'] = (dummy_test_Xy_df['Assessment Overall_00'] > 0)\n",
    "dummy_train_Xy_df['history_same_assessments'] = (dummy_train_Xy_df['others_00'] < 100000)\n",
    "dummy_test_Xy_df['history_same_assessments'] = (dummy_test_Xy_df['others_00'] < 100000)\n",
    "\n",
    "print('dummy_train unique uid:', dummy_train_Xy_df['installation_id'].nunique())\n",
    "print('dummy_train samples:', dummy_train_Xy_df.shape[0])\n",
    "\n",
    "# cv splitting:\n",
    "n_splits = 5\n",
    "cv_splitter = CVSplitter(n_splits, uid_list=dummy_train_user, Xy_df=dummy_train_Xy_df)\n",
    "dummy_train_Xy_df = cv_splitter.get_split()\n",
    "\n",
    "# Plot the histogram of assessment types for dummy_train and dummy_test.\n",
    "\n",
    "plot_feature = 'history_assessments'\n",
    "fig, ax = plt.subplots(1, 2 + n_splits, figsize=(5 * n_splits, 5))\n",
    "for i in range(n_splits):\n",
    "    sns.countplot(x=\"assessment_title\", hue=plot_feature, \n",
    "                  data=dummy_train_Xy_df[dummy_train_Xy_df['split_label'] == i], \n",
    "                  order=ASSESSMENTS, ax=ax[i+1])\n",
    "    ax[i+1].set_xticklabels(labels=ASSESSMENTS, rotation=90)\n",
    "    ax[i+1].set_ylim(top=180)\n",
    "    ax[i+1].set_title('Dummy_train Validation_{}'.format(i))\n",
    "sns.countplot(x=\"assessment_title\", hue=plot_feature, data=dummy_train_Xy_df, \n",
    "                  order=ASSESSMENTS, ax=ax[0])\n",
    "ax[0].set_xticklabels(labels=ASSESSMENTS, rotation=90)\n",
    "ax[0].set_ylim(top=dummy_train_Xy_df.shape[0]/5)\n",
    "ax[0].set_title('Dummy_train Overall')\n",
    "\n",
    "sns.countplot(x=\"assessment_title\", hue=plot_feature, data=dummy_test_Xy_df, \n",
    "                  order=ASSESSMENTS, palette='Set2', ax=ax[-1])\n",
    "ax[-1].set_xticklabels(labels=ASSESSMENTS, rotation=90)\n",
    "ax[-1].set_ylim(top=dummy_test_Xy_df.shape[0]/5)\n",
    "_ = ax[-1].set_title('Dummy_test Overall')"
   ]
  },
  {
   "cell_type": "code",
   "execution_count": 68,
   "metadata": {},
   "outputs": [
    {
     "name": "stdout",
     "output_type": "stream",
     "text": [
      "\n",
      "********************\n",
      "Bird Measurer (Assessment)\n",
      "CV mean score on validation_0: 0.891 +/- 0.004 std.\n",
      "CV mean score on validation_1: 1.029 +/- 0.075 std.\n",
      "CV mse_error on validation:        1.058, data number: 651.\n",
      "CV mse_error on validation part 0: 1.215, data number: 92.\n",
      "CV mse_error on validation part 1: 1.032, data number: 559.\n",
      "feature number: 30.\n",
      "\n",
      "********************\n",
      "Cart Balancer (Assessment)\n",
      "CV mean score on validation_0: 0.940 +/- 0.003 std.\n",
      "CV mean score on validation_1: 1.143 +/- 0.045 std.\n",
      "CV mse_error on validation:        1.305, data number: 720.\n",
      "CV mse_error on validation part 0: 1.815, data number: 254.\n",
      "CV mse_error on validation part 1: 1.027, data number: 466.\n",
      "feature number: 30.\n",
      "\n",
      "********************\n",
      "Cauldron Filler (Assessment)\n",
      "CV mean score on validation_0: 0.887 +/- 0.002 std.\n",
      "CV mean score on validation_1: 1.017 +/- 0.054 std.\n",
      "CV mse_error on validation:        1.037, data number: 839.\n",
      "CV mse_error on validation part 0: 1.344, data number: 303.\n",
      "CV mse_error on validation part 1: 0.864, data number: 536.\n",
      "feature number: 30.\n",
      "\n",
      "********************\n",
      "Chest Sorter (Assessment)\n",
      "CV mean score on validation_0: 0.906 +/- 0.003 std.\n",
      "CV mean score on validation_1: 1.033 +/- 0.056 std.\n",
      "CV mse_error on validation:        1.077, data number: 707.\n",
      "CV mse_error on validation part 0: 1.177, data number: 114.\n",
      "CV mse_error on validation part 1: 1.058, data number: 593.\n",
      "feature number: 30.\n",
      "\n",
      "********************\n",
      "Mushroom Sorter (Assessment)\n",
      "CV mean score on validation_0: 0.945 +/- 0.003 std.\n",
      "CV mean score on validation_1: 1.169 +/- 0.038 std.\n",
      "CV mse_error on validation:        1.367, data number: 697.\n",
      "CV mse_error on validation part 0: 1.630, data number: 264.\n",
      "CV mse_error on validation part 1: 1.207, data number: 433.\n",
      "feature number: 30.\n",
      "\n",
      "********************\n",
      ">>>>>>> Optimized thresholds: [1.06, 1.72, 2.16]\n",
      ">>>>>>> Optimized thresholds QWK_score: 0.5228616731705567\n",
      "time: 44 s\n"
     ]
    },
    {
     "data": {
      "image/png": "[encoded data removed]",
      "text/plain": [
       "<Figure size 504x504 with 2 Axes>"
      ]
     },
     "metadata": {
      "needs_background": "light"
     },
     "output_type": "display_data"
    }
   ],
   "source": [
    "# Setup directories for storing results.\n",
    "MODEL_NAME = 'baseline_0'\n",
    "MODEL_DIR  = os.path.join('./models', MODEL_NAME)\n",
    "if not os.path.exists(MODEL_DIR):\n",
    "    os.makedirs(MODEL_DIR)\n",
    "\n",
    "# Start CV\n",
    "params = { \n",
    "    'n_estimators': 300,  #################\n",
    "    'max_depth':  5,  #################\n",
    "    'learning_rate': 0.01, \n",
    "#     'min_child_weight': np.arange(1, 4, 1),\n",
    "#     'gamma': np.arange(0, 0.03, 0.01),\n",
    "#     'reg_alpha': np.arange(0, 0.01, 0.003),\n",
    "    'objective': 'reg:squarederror', #['reg:squaredlogerror']#, # squared loss.\n",
    "    'verbose': False,\n",
    "    'early_stopping_rounds': None,\n",
    "    'n_jobs': cpu_count()//2,\n",
    "    'random_state': 123\n",
    "}\n",
    "\n",
    "feature_type_to_drop = feature_specs_df[feature_specs_df['is_sum'] == 1]['feature_type'].to_list() \\\n",
    "                        + ['', 'assessment_overall__perc_grow_count']\n",
    "feature_type_to_drop.extend(['assessment__dur_last', 'assessment__dur_mean'])\n",
    "# feature_type_to_drop.extend(['assessment_overall__perc_grow_mean'])\n",
    "# feature_type_to_drop.extend(['time_from_last_trial'])  #################\n",
    "            \n",
    "feature_to_drop = feature_specs_df[feature_specs_df['feature_type'].isin(feature_type_to_drop)]['feature_name'].to_list()\n",
    "cols_to_drop = ['installation_id', 'is_last_assessment', 'is_first_assessment', 'assessment_title', \n",
    "            'accuracy', 'accuracy_group', 'split_label', 'history_assessments', 'history_same_assessments', 'from_test']  \\\n",
    "            + feature_to_drop\n",
    "\n",
    "y_truth = np.array([])\n",
    "y_pred  = np.array([])\n",
    "group_truth = np.array([])\n",
    "\n",
    "t0 = time.time()\n",
    "for assessment in ASSESSMENTS[:]:\n",
    "    print('\\n' + '*' * 20)\n",
    "    print(assessment)\n",
    "    Xy_assessment = dummy_train_Xy_df[dummy_train_Xy_df['assessment_title'] == assessment]\n",
    "#     if assessment == ASSESSMENTS[0] or assessment == ASSESSMENTS[3]:\n",
    "#     Xy_assessment = Xy_assessment[Xy_assessment['from_test'] == False]\n",
    "    X = Xy_assessment\n",
    "    y = Xy_assessment.loc[:, REGRESSION_ON]\n",
    "    assert(np.nan not in y)\n",
    "\n",
    "    model = RegressorModel(model_wrapper=XGBWrapper_regr())\n",
    "    model.fit(X, y, params=params, eval_metric='rmse', cols_to_drop=cols_to_drop, plot=False, plot_title=assessment, verbose=1)\n",
    "\n",
    "    group_oof = X[X['split_label'] >= 0]['accuracy_group']\n",
    "    y_oof = y[X['split_label'] >= 0]   # split -1 will only be used in train.\n",
    "    y_oof_pred = pd.Series(model.oof.reshape(-1)).dropna()\n",
    "    y_oof_pred = y_oof_pred.rename(index=dict(zip(y_oof_pred.index, y_oof.index)))\n",
    "    mse = mean_squared_error(y_oof, y_oof_pred)\n",
    "\n",
    "    y_oof_0 = y_oof[X['history_assessments'] == 0] # data that has no previous assessments.\n",
    "    y_oof_0_pred = y_oof_pred[X['history_assessments'] == 0]\n",
    "    mse_0 = mean_squared_error(y_oof_0, y_oof_0_pred)\n",
    "    y_oof_1 = y_oof[X['history_assessments'] == 1] # data that has previous assessments.\n",
    "    y_oof_1_pred = y_oof_pred[X['history_assessments'] == 1]\n",
    "    mse_1 = mean_squared_error(y_oof_1, y_oof_1_pred)\n",
    "    print(f\"CV mse_error on validation:        {mse:.3f}, data number: {len(y_oof)}.\")\n",
    "    print(f\"CV mse_error on validation part 0: {mse_0:.3f}, data number: {len(y_oof_0)}.\")\n",
    "    print(f\"CV mse_error on validation part 1: {mse_1:.3f}, data number: {len(y_oof_1)}.\")\n",
    "    print(f\"feature number: {len(model.columns)}.\")\n",
    "\n",
    "    y_truth = np.concatenate((y_truth, y_oof))\n",
    "    y_pred  = np.concatenate((y_pred, y_oof_pred))\n",
    "    group_truth = np.concatenate((group_truth, group_oof))\n",
    "    \n",
    "    model_path = os.path.join(MODEL_DIR, f\"model_{assessment}.pkl\")\n",
    "    model.save_model(model_path)\n",
    "\n",
    "print('\\n' + '*' * 20)\n",
    "optR = OptimizedRounder(regression_output=REGRESSION_ON, brute_search=True, brute_search_steps=15)\n",
    "optR.fit(y_pred, group_truth)\n",
    "print(\">>>>>>> Optimized thresholds:\", str(['{:.2f}'.format(j) for j in optR.get_coefficients()]).replace(\"'\", \"\"))\n",
    "group_pred  = optR.predict(y_pred)\n",
    "qwk_score = cohen_kappa_score(group_truth, group_pred, weights='quadratic')\n",
    "print(\">>>>>>> Optimized thresholds QWK_score:\", qwk_score)\n",
    "plot_acc_group_cm(group_truth, group_pred)\n",
    "\n",
    "t1 = time.time()\n",
    "print(f\"time: {t1 - t0:.0f} s\")"
   ]
  },
  {
   "cell_type": "markdown",
   "metadata": {},
   "source": [
    "# Testing and Submission"
   ]
  },
  {
   "cell_type": "code",
   "execution_count": 8,
   "metadata": {},
   "outputs": [],
   "source": [
    "sample_df = pd.read_csv(SUB_SAMPLE_PATH)\n",
    "y_test_pred = np.array([])\n",
    "y_test_uid = np.array([])\n",
    "y_test_assessment = np.array([])\n",
    "\n",
    "for assessment in ASSESSMENTS[:]:\n",
    "    Xy_assessment = dummy_test_Xy_df[dummy_test_Xy_df['assessment_title'] == assessment]\n",
    "    X = Xy_assessment\n",
    "    y = Xy_assessment.loc[:, REGRESSION_ON]\n",
    "    model_path = os.path.join(MODEL_DIR, f\"model_{assessment}.pkl\")\n",
    "    model = joblib.load(model_path)\n",
    "    y_pred = model.predict(X)\n",
    "    y_test_pred = np.concatenate((y_test_pred, y_pred.reshape(-1)))\n",
    "    y_test_uid = np.concatenate((y_test_uid, Xy_assessment['installation_id']))\n",
    "\n",
    "y_test_group_pred  = optR.predict(y_test_pred)\n",
    "submission_df = pd.DataFrame({\n",
    "    'installation_id': y_test_uid,\n",
    "    'accuracy_group': y_test_group_pred\n",
    "})\n",
    "assert(sample_df.shape == submission_df.shape)\n",
    "submission_df = submission_df.sort_values(by='installation_id')\n",
    "submission_df.to_csv('./submission.csv', index=False)"
   ]
  },
  {
   "cell_type": "code",
   "execution_count": null,
   "metadata": {},
   "outputs": [],
   "source": []
  },
  {
   "cell_type": "code",
   "execution_count": null,
   "metadata": {},
   "outputs": [],
   "source": [
    "\"\"\"\n",
    "Correlation analysis\n",
    "\"\"\"\n",
    "\n",
    "# train_Xy_df_last = train_Xy_df[train_Xy_df['is_last_assessment'] == 1]\n",
    "# print('train_Xy_df_last:', train_Xy_df_last.shape)\n",
    "# for assessment in ASSESSMENTS[:]:\n",
    "#     assessment_Xy = train_Xy_df_last[train_Xy_df_last['assessment_title'] == assessment]\n",
    "#     print(assessment, assessment_Xy.shape)\n",
    "#     fig, ax = plt.subplots(1, 5, figsize=(24, 4))\n",
    "#     fig.tight_layout()\n",
    "#     for j in range(5):\n",
    "#         fi = 5\n",
    "#         param_assessment = ASSESSMENTS[j]\n",
    "#         param_col = param_assessment + '_f0' + str(fi)\n",
    "#         temp_Xy0 = assessment_Xy[assessment_Xy[str(param_assessment + '_00')] > 1]\n",
    "#         temp_Xy = temp_Xy0[['accuracy', 'accuracy_group', param_col]].dropna()\n",
    "        \n",
    "# #         ax[j].hist2d(temp_Xy[param_col], temp_Xy['accuracy_group'], cmap=plt.cm.jet)\n",
    "# # #         sns.regplot(temp_Xy[param_col], temp_Xy['accuracy_group'], ax=ax[j])\n",
    "# #         r2 = r2_score(temp_Xy[param_col], temp_Xy['accuracy_group'])\n",
    "# #         ax[j].set_title(param_assessment + ', data: {}, r2: {:.2f}'.format(temp_Xy.shape[0], r2))\n",
    "        \n",
    "#         cm = confusion_matrix(temp_Xy[param_col], temp_Xy['accuracy_group'], np.arange(4))\n",
    "#         qwk_score = cohen_kappa_score(temp_Xy[param_col], temp_Xy['accuracy_group'], weights='quadratic')\n",
    "#         sns.heatmap(cm, annot=True, ax=ax[j])\n",
    "#         ax[j].set_title(param_assessment + ', data: {}, qwk: {:.2f}'.format(temp_Xy.shape[0], qwk_score))"
   ]
  },
  {
   "cell_type": "code",
   "execution_count": 80,
   "metadata": {},
   "outputs": [
    {
     "data": {
      "text/plain": [
       "<matplotlib.axes._subplots.AxesSubplot at 0x13719ef98>"
      ]
     },
     "execution_count": 80,
     "metadata": {},
     "output_type": "execute_result"
    },
    {
     "data": {
      "image/png": "[encoded data removed]",
      "text/plain": [
       "<Figure size 432x288 with 1 Axes>"
      ]
     },
     "metadata": {
      "needs_background": "light"
     },
     "output_type": "display_data"
    }
   ],
   "source": [
    "xxx = dummy_train_Xy_df['Assessment Overall_02']\n",
    "yyy = dummy_train_Xy_df['accuracy_group']\n",
    "sns.regplot(xxx, yyy)"
   ]
  },
  {
   "cell_type": "code",
   "execution_count": null,
   "metadata": {},
   "outputs": [],
   "source": []
  }
 ],
 "metadata": {
  "kernelspec": {
   "display_name": "Python 3",
   "language": "python",
   "name": "python3"
  },
  "language_info": {
   "codemirror_mode": {
    "name": "ipython",
    "version": 3
   },
   "file_extension": ".py",
   "mimetype": "text/x-python",
   "name": "python",
   "nbconvert_exporter": "python",
   "pygments_lexer": "ipython3",
   "version": "3.7.3"
  }
 },
 "nbformat": 4,
 "nbformat_minor": 4
}
