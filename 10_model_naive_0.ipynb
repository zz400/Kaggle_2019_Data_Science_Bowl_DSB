{
 "cells": [
  {
   "cell_type": "markdown",
   "metadata": {},
   "source": [
    "# Model: naive_baseline_0"
   ]
  },
  {
   "cell_type": "markdown",
   "metadata": {},
   "source": [
    "From notebook '01_check_label_distribution', we know there are 5 assessments:\n",
    "- Bird Measurer (Assessment)\n",
    "- Cart Balancer (Assessment)\n",
    "- Cauldron Filler (Assessment)\n",
    "- Chest Sorter (Assessment)\n",
    "- Mushroom Sorter (Assessment)\n",
    "\n",
    "We also know which is the most likely accuracy_group for each assessment from the train data.\n",
    "\n",
    "**For this naive baseline, we just use the most likely accuracy_group to do prediction.**\n",
    "\n",
    "### Results\n",
    "\n",
    "- Validation qwk_score: 0.37 ~ 0.41\n",
    "- Test qwk_score: 0.395"
   ]
  },
  {
   "cell_type": "code",
   "execution_count": 33,
   "metadata": {},
   "outputs": [
    {
     "name": "stdout",
     "output_type": "stream",
     "text": [
      "The autoreload extension is already loaded. To reload it, use:\n",
      "  %reload_ext autoreload\n"
     ]
    }
   ],
   "source": [
    "import os\n",
    "from sys import getsizeof\n",
    "import time\n",
    "import re\n",
    "from importlib import reload\n",
    "import joblib \n",
    "\n",
    "import numpy as np\n",
    "import pandas as pd\n",
    "import matplotlib.pyplot as plt\n",
    "import seaborn as sns\n",
    "\n",
    "from sklearn.utils import shuffle\n",
    "from sklearn.model_selection import train_test_split, GridSearchCV, PredefinedSplit\n",
    "from sklearn.preprocessing import StandardScaler, MinMaxScaler\n",
    "from sklearn.preprocessing import OneHotEncoder, OrdinalEncoder\n",
    "from sklearn.pipeline import Pipeline \n",
    "from sklearn.compose import ColumnTransformer \n",
    "from sklearn.ensemble import AdaBoostRegressor\n",
    "from sklearn.metrics import confusion_matrix, cohen_kappa_score\n",
    "from sklearn.metrics import make_scorer \n",
    "from sklearn.metrics import mean_squared_error, mean_absolute_error\n",
    "from sklearn.metrics import r2_score\n",
    "\n",
    "import xgboost\n",
    "from xgboost import plot_importance\n",
    "from xgboost.sklearn import XGBRegressor \n",
    "\n",
    "from data_util import *\n",
    "from model_util import *\n",
    "\n",
    "# for auto reload a module after editing.\n",
    "%load_ext autoreload\n",
    "%autoreload 2"
   ]
  },
  {
   "cell_type": "markdown",
   "metadata": {},
   "source": [
    "# Load Data"
   ]
  },
  {
   "cell_type": "code",
   "execution_count": 3,
   "metadata": {},
   "outputs": [
    {
     "name": "stdout",
     "output_type": "stream",
     "text": [
      "\n",
      "/########## Load Data ##########/\n",
      "\n",
      "train_df shape: (11341042, 11) , load time: 65.8 seconds.\n",
      "test_df shape: (1156414, 11) , load time: 4.4 seconds.\n"
     ]
    }
   ],
   "source": [
    "# Input data path\n",
    "DATA_DIR  = os.path.join('.', 'input')\n",
    "TRAIN_PATH = os.path.join(DATA_DIR, 'train.csv')\n",
    "TEST_PATH = os.path.join(DATA_DIR, 'test.csv')\n",
    "TRAIN_LABEL_PATH = os.path.join(DATA_DIR, 'train_labels.csv')\n",
    "\n",
    "# Read input data\n",
    "print(\"\\n/########## Load Data ##########/\\n\")\n",
    "t0 = time.time()\n",
    "train_df = pd.read_csv(TRAIN_PATH)\n",
    "t1 = time.time()\n",
    "test_df  = pd.read_csv(TEST_PATH)\n",
    "t2 = time.time()\n",
    "# train_label_df = pd.read_csv(TRAIN_LABEL_PATH)\n",
    "print('train_df shape:', train_df.shape, ', load time: {0:.1f} seconds.'.format((t1 - t0)))\n",
    "print('test_df shape:', test_df.shape, ', load time: {0:.1f} seconds.'.format((t2 - t1)))"
   ]
  },
  {
   "cell_type": "markdown",
   "metadata": {},
   "source": [
    "# Process Data\n",
    "\n",
    "- **train_df, test_df**: raw data\n",
    "- **train_label_df, test_label_df**: dataframes recording each assessment result.\n",
    "- **train_proc_df, test_proc_df**: dataframes recording features extracted from each session."
   ]
  },
  {
   "cell_type": "code",
   "execution_count": 5,
   "metadata": {},
   "outputs": [
    {
     "name": "stdout",
     "output_type": "stream",
     "text": [
      "\n",
      "/########## Extract label_df ##########/\n",
      "\n",
      "Finished extracting labels. Time: 62.3 seconds.\n",
      "Finished extracting labels. Time: 5.5 seconds.\n",
      "TRAIN_USERS num:  17000\n",
      "TRAIN_USERS_wLabel num:  3614\n",
      "TEST_USERS num:  1000\n",
      "TEST_USERS_wMultiAssess num:  557\n"
     ]
    }
   ],
   "source": [
    "# Setup directory\n",
    "PROC_DIR = os.path.join('.', 'processed')\n",
    "if not os.path.exists(PROC_DIR):\n",
    "    os.makedirs(PROC_DIR)\n",
    "    \n",
    "TRAIN_LABEL_PATH_ = os.path.join(PROC_DIR, 'train_labels_sortByTime.csv')\n",
    "TEST_LABEL_PATH_  = os.path.join(PROC_DIR, 'test_labels_sortByTime.csv')\n",
    "TRAIN_PROC_PATH = os.path.join(PROC_DIR, 'train_proc.csv')\n",
    "TEST_PROC_PATH  = os.path.join(PROC_DIR, 'test_proc.csv')\n",
    "\n",
    "# Get label_df\n",
    "print(\"\\n/########## Extract label_df ##########/\\n\")\n",
    "get_label_csv(train_df, TRAIN_LABEL_PATH_, is_test=False)\n",
    "get_label_csv(test_df, TEST_LABEL_PATH_, is_test=True)\n",
    "train_label_df = pd.read_csv(TRAIN_LABEL_PATH_)\n",
    "test_label_df  = pd.read_csv(TEST_LABEL_PATH_)\n",
    "\n",
    "TRAIN_USERS = train_df['installation_id'].unique()\n",
    "TRAIN_USERS_wLabel = train_label_df['installation_id'].unique()\n",
    "TEST_USERS  = test_df['installation_id'].unique()\n",
    "TEST_USERS_wMultiAssess = test_label_df.dropna()['installation_id'].unique()    # can be used as part of train.\n",
    "print('TRAIN_USERS num: ', len(TRAIN_USERS))\n",
    "print('TRAIN_USERS_wLabel num: ', len(TRAIN_USERS_wLabel))\n",
    "print('TEST_USERS num: ', len(TEST_USERS))\n",
    "print('TEST_USERS_wMultiAssess num: ', len(TEST_USERS_wMultiAssess))"
   ]
  },
  {
   "cell_type": "markdown",
   "metadata": {},
   "source": [
    "# Validation"
   ]
  },
  {
   "cell_type": "code",
   "execution_count": 87,
   "metadata": {},
   "outputs": [
    {
     "data": {
      "image/png": "[encoded data removed]",
      "text/plain": [
       "<Figure size 864x360 with 3 Axes>"
      ]
     },
     "metadata": {
      "needs_background": "light"
     },
     "output_type": "display_data"
    }
   ],
   "source": [
    "# Sampling 1000 samples as validation set \n",
    "valid_num = 1000\n",
    "valid_users = np.random.choice(TRAIN_USERS_wLabel, valid_num, replace=False)\n",
    "valid_label_df = train_label_df[train_label_df['installation_id'].isin(valid_users)]\n",
    "valid_label_df_last = valid_label_df.groupby('installation_id').tail(1)\n",
    "\n",
    "# Plot the histogram of assessment types.\n",
    "df_assessment_counts = pd.DataFrame(columns=['train', 'valid', 'valid_last'])\n",
    "df_assessment_counts['train'] = pd.Series(train_label_df['title'].values).value_counts().sort_index()\n",
    "df_assessment_counts['valid'] = pd.Series(valid_label_df['title'].values).value_counts().sort_index()\n",
    "df_assessment_counts['valid_last'] = pd.Series(valid_label_df_last['title'].values).value_counts().sort_index()\n",
    "_ = df_assessment_counts.plot(kind='bar', figsize=(12, 5), subplots=True, layout=(1,3), legend=False)"
   ]
  },
  {
   "cell_type": "code",
   "execution_count": 88,
   "metadata": {},
   "outputs": [],
   "source": [
    "# Prediction\n",
    "assessment_dict = {\n",
    "    'Bird Measurer (Assessment)' : 0,\n",
    "    'Cart Balancer (Assessment)' : 3,\n",
    "    'Cauldron Filler (Assessment)' : 3,\n",
    "    'Chest Sorter (Assessment)': 0,\n",
    "    'Mushroom Sorter (Assessment)': 3\n",
    "}\n",
    "\n",
    "y_valid_truth = valid_label_df_last['accuracy_group'].values\n",
    "y_valid_pred  = [assessment_dict[assessment] for assessment in valid_label_df_last['title']]\n",
    "res_df = pd.DataFrame()\n",
    "res_df['title'] = valid_label_df_last['title']\n",
    "res_df['accuracy_group_truth'] = y_valid_truth\n",
    "res_df['accuracy_group_pred'] = y_valid_pred"
   ]
  },
  {
   "cell_type": "code",
   "execution_count": 89,
   "metadata": {},
   "outputs": [
    {
     "name": "stdout",
     "output_type": "stream",
     "text": [
      "Assessment = Bird Measurer (Assessment): qwk_score = 0.00\n",
      "Assessment = Cart Balancer (Assessment): qwk_score = 0.00\n",
      "Assessment = Cauldron Filler (Assessment): qwk_score = 0.00\n",
      "Assessment = Chest Sorter (Assessment): qwk_score = 0.00\n",
      "Assessment = Mushroom Sorter (Assessment): qwk_score = 0.00\n",
      "Overall: r2_score = -0.43\n",
      "Overall: qwk_score = 0.37\n"
     ]
    },
    {
     "data": {
      "image/png": "[encoded data removed]",
      "text/plain": [
       "<Figure size 504x504 with 2 Axes>"
      ]
     },
     "metadata": {
      "needs_background": "light"
     },
     "output_type": "display_data"
    }
   ],
   "source": [
    "for assessment in assessment_dict:\n",
    "    assessment_truth = res_df[res_df['title'] == assessment]['accuracy_group_truth'].values\n",
    "    assessment_pred  = res_df[res_df['title'] == assessment]['accuracy_group_pred'].values\n",
    "    assessment_qwk = cohen_kappa_score(assessment_truth, assessment_pred, weights='quadratic')\n",
    "    print('Assessment = {}: qwk_score = {:.2f}'.format(assessment, assessment_qwk))\n",
    "\n",
    "r2 = r2_score(y_valid_truth, y_valid_pred) \n",
    "print('Overall: r2_score = {:.2f}'.format(r2))\n",
    "qwk_score = cohen_kappa_score(y_valid_truth, y_valid_pred, weights='quadratic')\n",
    "print('Overall: qwk_score = {:.2f}'.format(qwk_score))\n",
    "plot_acc_group_cm(y_valid_truth, y_valid_pred)"
   ]
  },
  {
   "cell_type": "markdown",
   "metadata": {},
   "source": [
    "# Test"
   ]
  },
  {
   "cell_type": "code",
   "execution_count": 83,
   "metadata": {},
   "outputs": [
    {
     "data": {
      "text/html": [
       "<div>\n",
       "<style scoped>\n",
       "    .dataframe tbody tr th:only-of-type {\n",
       "        vertical-align: middle;\n",
       "    }\n",
       "\n",
       "    .dataframe tbody tr th {\n",
       "        vertical-align: top;\n",
       "    }\n",
       "\n",
       "    .dataframe thead th {\n",
       "        text-align: right;\n",
       "    }\n",
       "</style>\n",
       "<table border=\"1\" class=\"dataframe\">\n",
       "  <thead>\n",
       "    <tr style=\"text-align: right;\">\n",
       "      <th></th>\n",
       "      <th>installation_id</th>\n",
       "      <th>accuracy_group</th>\n",
       "    </tr>\n",
       "  </thead>\n",
       "  <tbody>\n",
       "    <tr>\n",
       "      <th>0</th>\n",
       "      <td>00abaee7</td>\n",
       "      <td>3</td>\n",
       "    </tr>\n",
       "    <tr>\n",
       "      <th>1</th>\n",
       "      <td>01242218</td>\n",
       "      <td>3</td>\n",
       "    </tr>\n",
       "    <tr>\n",
       "      <th>2</th>\n",
       "      <td>017c5718</td>\n",
       "      <td>3</td>\n",
       "    </tr>\n",
       "    <tr>\n",
       "      <th>3</th>\n",
       "      <td>01a44906</td>\n",
       "      <td>3</td>\n",
       "    </tr>\n",
       "    <tr>\n",
       "      <th>4</th>\n",
       "      <td>01bc6cb6</td>\n",
       "      <td>3</td>\n",
       "    </tr>\n",
       "    <tr>\n",
       "      <th>...</th>\n",
       "      <td>...</td>\n",
       "      <td>...</td>\n",
       "    </tr>\n",
       "    <tr>\n",
       "      <th>995</th>\n",
       "      <td>fee254cf</td>\n",
       "      <td>3</td>\n",
       "    </tr>\n",
       "    <tr>\n",
       "      <th>996</th>\n",
       "      <td>ff57e602</td>\n",
       "      <td>0</td>\n",
       "    </tr>\n",
       "    <tr>\n",
       "      <th>997</th>\n",
       "      <td>ffc73fb2</td>\n",
       "      <td>3</td>\n",
       "    </tr>\n",
       "    <tr>\n",
       "      <th>998</th>\n",
       "      <td>ffe00ca8</td>\n",
       "      <td>3</td>\n",
       "    </tr>\n",
       "    <tr>\n",
       "      <th>999</th>\n",
       "      <td>ffe774cc</td>\n",
       "      <td>0</td>\n",
       "    </tr>\n",
       "  </tbody>\n",
       "</table>\n",
       "<p>1000 rows × 2 columns</p>\n",
       "</div>"
      ],
      "text/plain": [
       "    installation_id  accuracy_group\n",
       "0          00abaee7               3\n",
       "1          01242218               3\n",
       "2          017c5718               3\n",
       "3          01a44906               3\n",
       "4          01bc6cb6               3\n",
       "..              ...             ...\n",
       "995        fee254cf               3\n",
       "996        ff57e602               0\n",
       "997        ffc73fb2               3\n",
       "998        ffe00ca8               3\n",
       "999        ffe774cc               0\n",
       "\n",
       "[1000 rows x 2 columns]"
      ]
     },
     "execution_count": 83,
     "metadata": {},
     "output_type": "execute_result"
    }
   ],
   "source": [
    "test_label_df_last = test_label_df.groupby('installation_id').tail(1)\n",
    "submission_df = pd.DataFrame()\n",
    "submission_df['installation_id'] = test_label_df_last['installation_id'].values\n",
    "submission_df['accuracy_group']  = [assessment_dict[assessment] for assessment in test_label_df_last['title']]\n",
    "submission_df"
   ]
  },
  {
   "cell_type": "code",
   "execution_count": 84,
   "metadata": {},
   "outputs": [],
   "source": [
    "OUTPUT_DIR  = os.path.join('.', 'output')\n",
    "submission_df.to_csv('submission.csv', index=False)"
   ]
  },
  {
   "cell_type": "code",
   "execution_count": null,
   "metadata": {},
   "outputs": [],
   "source": []
  }
 ],
 "metadata": {
  "kernelspec": {
   "display_name": "Python 3",
   "language": "python",
   "name": "python3"
  },
  "language_info": {
   "codemirror_mode": {
    "name": "ipython",
    "version": 3
   },
   "file_extension": ".py",
   "mimetype": "text/x-python",
   "name": "python",
   "nbconvert_exporter": "python",
   "pygments_lexer": "ipython3",
   "version": "3.7.3"
  }
 },
 "nbformat": 4,
 "nbformat_minor": 4
}
