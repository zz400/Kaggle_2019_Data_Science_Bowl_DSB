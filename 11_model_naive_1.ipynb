{
 "cells": [
  {
   "cell_type": "markdown",
   "metadata": {},
   "source": [
    "# Model: naive_baseline_1"
   ]
  },
  {
   "cell_type": "markdown",
   "metadata": {},
   "source": [
    "**Based on naive_baseline_0, and also take the user's previous assessment result into consideration.**\n",
    "\n",
    "### Results\n",
    "\n",
    "- Validation qwk_score: 0.49\n",
    "- Test qwk_score (public): 0.422 \n",
    "- Test qwk_score (private): 0.442 "
   ]
  },
  {
   "cell_type": "code",
   "execution_count": 1,
   "metadata": {},
   "outputs": [
    {
     "name": "stderr",
     "output_type": "stream",
     "text": [
      "/Users/zhao/anaconda3/lib/python3.7/site-packages/statsmodels/tools/_testing.py:19: FutureWarning: pandas.util.testing is deprecated. Use the functions in the public API at pandas.testing instead.\n",
      "  import pandas.util.testing as tm\n"
     ]
    }
   ],
   "source": [
    "import os\n",
    "from sys import getsizeof\n",
    "import time\n",
    "import re\n",
    "from importlib import reload\n",
    "import joblib \n",
    "\n",
    "import numpy as np\n",
    "import pandas as pd\n",
    "import matplotlib.pyplot as plt\n",
    "import seaborn as sns\n",
    "\n",
    "from sklearn.utils import shuffle\n",
    "from sklearn.model_selection import train_test_split, GridSearchCV, PredefinedSplit\n",
    "from sklearn.preprocessing import StandardScaler, MinMaxScaler\n",
    "from sklearn.preprocessing import OneHotEncoder, OrdinalEncoder\n",
    "from sklearn.pipeline import Pipeline \n",
    "from sklearn.compose import ColumnTransformer \n",
    "from sklearn.ensemble import AdaBoostRegressor\n",
    "from sklearn.metrics import confusion_matrix, cohen_kappa_score\n",
    "from sklearn.metrics import make_scorer \n",
    "from sklearn.metrics import mean_squared_error, mean_absolute_error\n",
    "from sklearn.metrics import r2_score\n",
    "\n",
    "import xgboost\n",
    "from xgboost import plot_importance\n",
    "from xgboost.sklearn import XGBRegressor \n",
    "\n",
    "from data_util import *\n",
    "from model_util import *\n",
    "\n",
    "# for auto reload a module after editing.\n",
    "%load_ext autoreload\n",
    "%autoreload 2"
   ]
  },
  {
   "cell_type": "markdown",
   "metadata": {},
   "source": [
    "# Load Data"
   ]
  },
  {
   "cell_type": "code",
   "execution_count": 71,
   "metadata": {},
   "outputs": [
    {
     "name": "stdout",
     "output_type": "stream",
     "text": [
      "\n",
      "/########## Load Data ##########/\n",
      "\n",
      "train_df shape: (11341042, 11) , load time: 82.0 seconds.\n",
      "test_df shape: (1156414, 11) , load time: 7.7 seconds.\n"
     ]
    }
   ],
   "source": [
    "# Input data path\n",
    "DATA_DIR  = os.path.join('.', 'input')\n",
    "TRAIN_PATH = os.path.join(DATA_DIR, 'train.csv')\n",
    "TEST_PATH = os.path.join(DATA_DIR, 'test.csv')\n",
    "TRAIN_LABEL_PATH = os.path.join(DATA_DIR, 'train_labels.csv')\n",
    "\n",
    "# Read input data\n",
    "print(\"\\n/########## Load Data ##########/\\n\")\n",
    "t0 = time.time()\n",
    "train_df = pd.read_csv(TRAIN_PATH)\n",
    "t1 = time.time()\n",
    "test_df  = pd.read_csv(TEST_PATH)\n",
    "t2 = time.time()\n",
    "# train_label_df = pd.read_csv(TRAIN_LABEL_PATH)\n",
    "print('train_df shape:', train_df.shape, ', load time: {0:.1f} seconds.'.format((t1 - t0)))\n",
    "print('test_df shape:', test_df.shape, ', load time: {0:.1f} seconds.'.format((t2 - t1)))"
   ]
  },
  {
   "cell_type": "markdown",
   "metadata": {},
   "source": [
    "# Process Data\n",
    "\n",
    "- **train_df, test_df**: raw data\n",
    "- **train_label_df, test_label_df**: dataframes recording each assessment result.\n",
    "- **train_proc_df, test_proc_df**: dataframes recording features extracted from each session."
   ]
  },
  {
   "cell_type": "code",
   "execution_count": 72,
   "metadata": {},
   "outputs": [
    {
     "name": "stdout",
     "output_type": "stream",
     "text": [
      "\n",
      "/########## Extract label_df ##########/\n",
      "\n",
      "Finished extracting labels. Time: 64.2 seconds.\n",
      "Finished extracting labels. Time: 6.0 seconds.\n",
      "TRAIN_USERS num:  17000\n",
      "TRAIN_USERS_wLabel num:  3614\n",
      "TEST_USERS num:  1000\n",
      "TEST_USERS_wMultiAssess num:  557\n"
     ]
    }
   ],
   "source": [
    "# Setup directory\n",
    "PROC_DIR = os.path.join('.', 'processed')\n",
    "if not os.path.exists(PROC_DIR):\n",
    "    os.makedirs(PROC_DIR)\n",
    "    \n",
    "TRAIN_LABEL_PATH_ = os.path.join(PROC_DIR, 'train_labels_sortByTime.csv')\n",
    "TEST_LABEL_PATH_  = os.path.join(PROC_DIR, 'test_labels_sortByTime.csv')\n",
    "TRAIN_PROC_PATH = os.path.join(PROC_DIR, 'train_proc.csv')\n",
    "TEST_PROC_PATH  = os.path.join(PROC_DIR, 'test_proc.csv')\n",
    "\n",
    "# Get label_df\n",
    "print(\"\\n/########## Extract label_df ##########/\\n\")\n",
    "get_label_csv(train_df, TRAIN_LABEL_PATH_, is_test=False)\n",
    "get_label_csv(test_df, TEST_LABEL_PATH_, is_test=True)\n",
    "train_label_df = pd.read_csv(TRAIN_LABEL_PATH_)\n",
    "test_label_df  = pd.read_csv(TEST_LABEL_PATH_)\n",
    "\n",
    "TRAIN_USERS = train_df['installation_id'].unique()\n",
    "TRAIN_USERS_wLabel = train_label_df['installation_id'].unique()\n",
    "TEST_USERS  = test_df['installation_id'].unique()\n",
    "TEST_USERS_wMultiAssess = test_label_df.dropna()['installation_id'].unique()    # can be used as part of train.\n",
    "print('TRAIN_USERS num: ', len(TRAIN_USERS))\n",
    "print('TRAIN_USERS_wLabel num: ', len(TRAIN_USERS_wLabel))\n",
    "print('TEST_USERS num: ', len(TEST_USERS))\n",
    "print('TEST_USERS_wMultiAssess num: ', len(TEST_USERS_wMultiAssess))"
   ]
  },
  {
   "cell_type": "markdown",
   "metadata": {},
   "source": [
    "# Validation"
   ]
  },
  {
   "cell_type": "code",
   "execution_count": 303,
   "metadata": {},
   "outputs": [
    {
     "data": {
      "image/png": "[encoded data removed]",
      "text/plain": [
       "<Figure size 864x360 with 3 Axes>"
      ]
     },
     "metadata": {
      "needs_background": "light"
     },
     "output_type": "display_data"
    }
   ],
   "source": [
    "# Sampling 1000 samples as validation set \n",
    "valid_num = 1000\n",
    "valid_users = np.random.choice(TRAIN_USERS_wLabel, valid_num, replace=False)\n",
    "valid_label_df = train_label_df[train_label_df['installation_id'].isin(valid_users)]\n",
    "valid_label_df_last = valid_label_df.groupby('installation_id').tail(1)\n",
    "valid_label_df_not_last = valid_label_df.loc[[index for index in valid_label_df.index if index not in valid_label_df_last.index]]\n",
    "valid_label_df_not_last['percentile'] = np.nan\n",
    "\n",
    "# Plot the histogram of assessment types.\n",
    "df_assessment_counts = pd.DataFrame(columns=['train', 'valid', 'valid_last'])\n",
    "df_assessment_counts['train'] = pd.Series(train_label_df['title'].values).value_counts().sort_index()\n",
    "df_assessment_counts['valid'] = pd.Series(valid_label_df['title'].values).value_counts().sort_index()\n",
    "df_assessment_counts['valid_last'] = pd.Series(valid_label_df_last['title'].values).value_counts().sort_index()\n",
    "_ = df_assessment_counts.plot(kind='bar', figsize=(12, 5), subplots=True, layout=(1,3), legend=False)"
   ]
  },
  {
   "cell_type": "code",
   "execution_count": 304,
   "metadata": {},
   "outputs": [
    {
     "name": "stderr",
     "output_type": "stream",
     "text": [
      "/Users/zhao/anaconda3/lib/python3.7/site-packages/pandas/core/indexing.py:964: SettingWithCopyWarning: \n",
      "A value is trying to be set on a copy of a slice from a DataFrame.\n",
      "Try using .loc[row_indexer,col_indexer] = value instead\n",
      "\n",
      "See the caveats in the documentation: https://pandas.pydata.org/pandas-docs/stable/user_guide/indexing.html#returning-a-view-versus-a-copy\n",
      "  self.obj[item] = s\n"
     ]
    },
    {
     "data": {
      "text/html": [
       "<div>\n",
       "<style scoped>\n",
       "    .dataframe tbody tr th:only-of-type {\n",
       "        vertical-align: middle;\n",
       "    }\n",
       "\n",
       "    .dataframe tbody tr th {\n",
       "        vertical-align: top;\n",
       "    }\n",
       "\n",
       "    .dataframe thead th {\n",
       "        text-align: right;\n",
       "    }\n",
       "</style>\n",
       "<table border=\"1\" class=\"dataframe\">\n",
       "  <thead>\n",
       "    <tr style=\"text-align: right;\">\n",
       "      <th></th>\n",
       "      <th>percentile</th>\n",
       "    </tr>\n",
       "    <tr>\n",
       "      <th>installation_id</th>\n",
       "      <th></th>\n",
       "    </tr>\n",
       "  </thead>\n",
       "  <tbody>\n",
       "    <tr>\n",
       "      <th>003372b0</th>\n",
       "      <td>0.599042</td>\n",
       "    </tr>\n",
       "    <tr>\n",
       "      <th>00fa8681</th>\n",
       "      <td>0.490689</td>\n",
       "    </tr>\n",
       "    <tr>\n",
       "      <th>01825124</th>\n",
       "      <td>0.679443</td>\n",
       "    </tr>\n",
       "    <tr>\n",
       "      <th>01bdd720</th>\n",
       "      <td>0.630927</td>\n",
       "    </tr>\n",
       "    <tr>\n",
       "      <th>0293ae74</th>\n",
       "      <td>0.489132</td>\n",
       "    </tr>\n",
       "    <tr>\n",
       "      <th>...</th>\n",
       "      <td>...</td>\n",
       "    </tr>\n",
       "    <tr>\n",
       "      <th>fe488283</th>\n",
       "      <td>0.485069</td>\n",
       "    </tr>\n",
       "    <tr>\n",
       "      <th>fe4d880a</th>\n",
       "      <td>0.383285</td>\n",
       "    </tr>\n",
       "    <tr>\n",
       "      <th>ff9305d7</th>\n",
       "      <td>0.308374</td>\n",
       "    </tr>\n",
       "    <tr>\n",
       "      <th>ff9715db</th>\n",
       "      <td>0.619157</td>\n",
       "    </tr>\n",
       "    <tr>\n",
       "      <th>ffc90c32</th>\n",
       "      <td>0.629468</td>\n",
       "    </tr>\n",
       "  </tbody>\n",
       "</table>\n",
       "<p>713 rows × 1 columns</p>\n",
       "</div>"
      ],
      "text/plain": [
       "                 percentile\n",
       "installation_id            \n",
       "003372b0           0.599042\n",
       "00fa8681           0.490689\n",
       "01825124           0.679443\n",
       "01bdd720           0.630927\n",
       "0293ae74           0.489132\n",
       "...                     ...\n",
       "fe488283           0.485069\n",
       "fe4d880a           0.383285\n",
       "ff9305d7           0.308374\n",
       "ff9715db           0.619157\n",
       "ffc90c32           0.629468\n",
       "\n",
       "[713 rows x 1 columns]"
      ]
     },
     "execution_count": 304,
     "metadata": {},
     "output_type": "execute_result"
    }
   ],
   "source": [
    "assessments = ['Bird Measurer (Assessment)', 'Cart Balancer (Assessment)', 'Cauldron Filler (Assessment)', \n",
    "               'Chest Sorter (Assessment)', 'Mushroom Sorter (Assessment)']\n",
    "\n",
    "# Get the percentile of users' performance in each assessment.\n",
    "for assessment in assessments:\n",
    "    train_label_df_assess = train_label_df[train_label_df['title'] == assessment].sort_values(by=['accuracy']) \n",
    "    train_acc_list_assess = train_label_df_assess['accuracy'].values\n",
    "    valid_label_df_assess = valid_label_df_not_last[valid_label_df_not_last['title'] == assessment]\n",
    "    valid_acc_list_assess = valid_label_df_assess['accuracy'].values\n",
    "    valid_label_df_assess.loc[:, 'percentile'] = (0.5 * np.searchsorted(train_acc_list_assess, valid_acc_list_assess, side='right') \n",
    "                                                  + 0.5 *  np.searchsorted(train_acc_list_assess, valid_acc_list_assess, side='left')) / len(train_acc_list_assess)\n",
    "    valid_label_df_not_last.loc[valid_label_df_assess.index, 'percentile'] = valid_label_df_assess['percentile']\n",
    "valid_user_percentile = valid_label_df_not_last.groupby('installation_id').agg({'percentile': 'mean'})\n",
    "valid_user_percentile"
   ]
  },
  {
   "cell_type": "code",
   "execution_count": 305,
   "metadata": {},
   "outputs": [],
   "source": [
    "# Prediction\n",
    "\n",
    "# Step 1: same as 'naive_baseline_0'\n",
    "assessment_dict = {\n",
    "    'Bird Measurer (Assessment)' : 0,\n",
    "    'Cart Balancer (Assessment)' : 3,\n",
    "    'Cauldron Filler (Assessment)' : 3,\n",
    "    'Chest Sorter (Assessment)': 0,\n",
    "    'Mushroom Sorter (Assessment)': 3\n",
    "}\n",
    "\n",
    "y_valid_truth = valid_label_df_last['accuracy_group'].values\n",
    "y_valid_pred  = [assessment_dict[assessment] for assessment in valid_label_df_last['title']]\n",
    "res_df = pd.DataFrame()\n",
    "res_df['installation_id'] = valid_label_df_last['installation_id']\n",
    "res_df['title'] = valid_label_df_last['title']\n",
    "res_df['accuracy_group_truth'] = y_valid_truth\n",
    "res_df['accuracy_group_pred'] = y_valid_pred\n",
    "res_df.set_index('installation_id', inplace=True)\n",
    "\n",
    "# Step 2: if the user has already taken assessments, use that result to do prediction\n",
    "assessment_to_group_list = {}\n",
    "for assessment in assessments:\n",
    "    group_list = train_label_df[train_label_df['title'] == assessment].sort_values(by=['accuracy_group'])['accuracy_group'].values\n",
    "    assessment_to_group_list[assessment] = group_list\n",
    "\n",
    "for uid in res_df.index:\n",
    "    if uid not in valid_user_percentile.index:\n",
    "        continue\n",
    "    percentile = valid_user_percentile.loc[uid, 'percentile']\n",
    "    assessment = res_df.loc[uid, 'title']\n",
    "    group_list = assessment_to_group_list[assessment]\n",
    "    res_df.loc[uid, 'accuracy_group_pred'] = group_list[int(len(group_list) * percentile) - 1]\n",
    "    \n",
    "y_valid_pred = res_df['accuracy_group_pred'].values"
   ]
  },
  {
   "cell_type": "code",
   "execution_count": 306,
   "metadata": {},
   "outputs": [
    {
     "name": "stdout",
     "output_type": "stream",
     "text": [
      "Assessment = Bird Measurer (Assessment): qwk_score = 0.27\n",
      "Assessment = Cart Balancer (Assessment): qwk_score = 0.19\n",
      "Assessment = Cauldron Filler (Assessment): qwk_score = 0.25\n",
      "Assessment = Chest Sorter (Assessment): qwk_score = 0.23\n",
      "Assessment = Mushroom Sorter (Assessment): qwk_score = 0.15\n",
      "Overall: r2_score = 0.01\n",
      "Overall: qwk_score = 0.49\n"
     ]
    },
    {
     "data": {
      "image/png": "[encoded data removed]",
      "text/plain": [
       "<Figure size 504x504 with 2 Axes>"
      ]
     },
     "metadata": {
      "needs_background": "light"
     },
     "output_type": "display_data"
    }
   ],
   "source": [
    "for assessment in assessments:\n",
    "    assessment_truth = res_df[res_df['title'] == assessment]['accuracy_group_truth'].values\n",
    "    assessment_pred  = res_df[res_df['title'] == assessment]['accuracy_group_pred'].values\n",
    "    assessment_qwk = cohen_kappa_score(assessment_truth, assessment_pred, weights='quadratic')\n",
    "    print('Assessment = {}: qwk_score = {:.2f}'.format(assessment, assessment_qwk))\n",
    "\n",
    "r2 = r2_score(y_valid_truth, y_valid_pred) \n",
    "print('Overall: r2_score = {:.2f}'.format(r2))\n",
    "qwk_score = cohen_kappa_score(y_valid_truth, y_valid_pred, weights='quadratic')\n",
    "print('Overall: qwk_score = {:.2f}'.format(qwk_score))\n",
    "plot_acc_group_cm(y_valid_truth, y_valid_pred)"
   ]
  },
  {
   "cell_type": "markdown",
   "metadata": {},
   "source": [
    "# Test"
   ]
  },
  {
   "cell_type": "code",
   "execution_count": 346,
   "metadata": {},
   "outputs": [],
   "source": [
    "test_label_df_last = test_label_df.groupby('installation_id').tail(1)\n",
    "test_label_df_not_last = test_label_df.loc[[index for index in test_label_df.index if index not in test_label_df_last.index]]\n",
    "test_label_df_not_last['percentile'] = np.nan\n",
    "\n",
    "assessments = ['Bird Measurer (Assessment)', 'Cart Balancer (Assessment)', 'Cauldron Filler (Assessment)', \n",
    "               'Chest Sorter (Assessment)', 'Mushroom Sorter (Assessment)']\n",
    "\n",
    "# Get the percentile of users' performance in each assessment.\n",
    "for assessment in assessments:\n",
    "    train_label_df_assess = train_label_df[train_label_df['title'] == assessment].sort_values(by=['accuracy']) \n",
    "    train_acc_list_assess = train_label_df_assess['accuracy'].values\n",
    "    test_label_df_assess = test_label_df_not_last[test_label_df_not_last['title'] == assessment]\n",
    "    test_acc_list_assess = test_label_df_assess['accuracy'].values\n",
    "    fac = 0.5\n",
    "    test_label_df_assess.loc[:, 'percentile'] = (fac * np.searchsorted(train_acc_list_assess, test_acc_list_assess, side='right') \n",
    "                                                  + (1 - fac) *  np.searchsorted(train_acc_list_assess, test_acc_list_assess, side='left')) \\\n",
    "                                                    / len(train_acc_list_assess)\n",
    "    test_label_df_not_last.loc[test_label_df_assess.index, 'percentile'] = test_label_df_assess['percentile']\n",
    "test_user_percentile = test_label_df_not_last.groupby('installation_id').agg({'percentile': 'mean'})\n",
    "\n",
    "\n",
    "# Prediction\n",
    "\n",
    "# Step 1: same as 'naive_baseline_0'\n",
    "assessment_dict = {\n",
    "    'Bird Measurer (Assessment)' : 0,\n",
    "    'Cart Balancer (Assessment)' : 3,\n",
    "    'Cauldron Filler (Assessment)' : 3,\n",
    "    'Chest Sorter (Assessment)': 0,\n",
    "    'Mushroom Sorter (Assessment)': 3\n",
    "}\n",
    "\n",
    "submission_df = pd.DataFrame()\n",
    "submission_df['installation_id'] = test_label_df_last['installation_id'].values\n",
    "submission_df['title'] = test_label_df_last['title'].values\n",
    "submission_df['accuracy_group']  = [assessment_dict[assessment] for assessment in test_label_df_last['title']]\n",
    "submission_df.set_index('installation_id', inplace=True)\n",
    "\n",
    "# Step 2: if the user has already taken assessments, use that result to do prediction\n",
    "assessment_to_group_list = {}\n",
    "for assessment in assessments:\n",
    "    group_list = train_label_df[train_label_df['title'] == assessment].sort_values(by=['accuracy_group'])['accuracy_group'].values\n",
    "    assessment_to_group_list[assessment] = group_list\n",
    "\n",
    "for uid in submission_df.index:\n",
    "    if uid not in test_user_percentile.index:\n",
    "        continue\n",
    "    percentile = test_user_percentile.loc[uid, 'percentile']\n",
    "    assessment = submission_df.loc[uid, 'title']\n",
    "    group_list = assessment_to_group_list[assessment]\n",
    "    submission_df.loc[uid, 'accuracy_group'] = group_list[int(len(group_list) * percentile) - 1]\n"
   ]
  },
  {
   "cell_type": "code",
   "execution_count": 355,
   "metadata": {},
   "outputs": [],
   "source": [
    "OUTPUT_DIR  = os.path.join('.', 'output')\n",
    "submission_df.reset_index()[['installation_id', 'accuracy_group']].to_csv('submission.csv', index=False)"
   ]
  },
  {
   "cell_type": "code",
   "execution_count": null,
   "metadata": {},
   "outputs": [],
   "source": []
  },
  {
   "cell_type": "code",
   "execution_count": null,
   "metadata": {},
   "outputs": [],
   "source": []
  }
 ],
 "metadata": {
  "kernelspec": {
   "display_name": "Python 3",
   "language": "python",
   "name": "python3"
  },
  "language_info": {
   "codemirror_mode": {
    "name": "ipython",
    "version": 3
   },
   "file_extension": ".py",
   "mimetype": "text/x-python",
   "name": "python",
   "nbconvert_exporter": "python",
   "pygments_lexer": "ipython3",
   "version": "3.7.3"
  }
 },
 "nbformat": 4,
 "nbformat_minor": 4
}
